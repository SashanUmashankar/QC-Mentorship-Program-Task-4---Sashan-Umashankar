{
 "cells": [
  {
   "cell_type": "code",
   "execution_count": 1,
   "metadata": {},
   "outputs": [
    {
     "name": "stdout",
     "output_type": "stream",
     "text": [
      "Libraries imported successfully!\n"
     ]
    }
   ],
   "source": [
    "from qiskit import QuantumCircuit  \n",
    "from qiskit.circuit.random import random_circuit\n",
    "\n",
    "from qiskit import Aer, execute \n",
    "from qiskit.visualization import *\n",
    "\n",
    "import warnings \n",
    "warnings.filterwarnings(\"ignore\")\n",
    "\n",
    "print(\"Libraries imported successfully!\")"
   ]
  },
  {
   "cell_type": "code",
   "execution_count": 2,
   "metadata": {},
   "outputs": [],
   "source": [
    "def gen_circuit(num_qubits: int, depth: int, basis: list):\n",
    "    qc = random_circuit(num_qubits, depth, measure=True)\n",
    "    for q, gate in enumerate(basis):\n",
    "      if gate == \"\":\n",
    "        continue\n",
    "      elif gate == \"cx\":\n",
    "        target = input(\"target gate for {}\".format(q))\n",
    "        literal = 'qc.{}({},{})'.format(gate, q, target)\n",
    "      else:\n",
    "        literal = 'qc.{}({})'.format(gate, q)\n",
    "      eval(literal)\n",
    "\n",
    "    return qc\n"
   ]
  },
  {
   "cell_type": "code",
   "execution_count": 3,
   "metadata": {},
   "outputs": [
    {
     "data": {
      "text/html": [
       "<pre style=\"word-wrap: normal;white-space: pre;background: #fff0;line-height: 1.1;font-family: &quot;Courier New&quot;,Courier,monospace\">     ┌─┐                     \n",
       "q_0: ┤M├─────────────────────\n",
       "     └╥┘┌─┐                  \n",
       "q_1: ─╫─┤M├─────■────────────\n",
       "      ║ └╥┘┌─┐┌─┴─┐          \n",
       "q_2: ─╫──╫─┤M├┤ X ├──■───────\n",
       "      ║  ║ └╥┘└┬─┬┘┌─┴─┐     \n",
       "q_3: ─╫──╫──╫──┤M├─┤ X ├──■──\n",
       "      ║  ║  ║  └╥┘ └┬─┬┘┌─┴─┐\n",
       "q_4: ─╫──╫──╫───╫───┤M├─┤ X ├\n",
       "      ║  ║  ║   ║   └╥┘ └───┘\n",
       "c: 5/═╩══╩══╩═══╩════╩═══════\n",
       "      0  1  2   3    4       </pre>"
      ],
      "text/plain": [
       "     ┌─┐                     \n",
       "q_0: ┤M├─────────────────────\n",
       "     └╥┘┌─┐                  \n",
       "q_1: ─╫─┤M├─────■────────────\n",
       "      ║ └╥┘┌─┐┌─┴─┐          \n",
       "q_2: ─╫──╫─┤M├┤ X ├──■───────\n",
       "      ║  ║ └╥┘└┬─┬┘┌─┴─┐     \n",
       "q_3: ─╫──╫──╫──┤M├─┤ X ├──■──\n",
       "      ║  ║  ║  └╥┘ └┬─┬┘┌─┴─┐\n",
       "q_4: ─╫──╫──╫───╫───┤M├─┤ X ├\n",
       "      ║  ║  ║   ║   └╥┘ └───┘\n",
       "c: 5/═╩══╩══╩═══╩════╩═══════\n",
       "      0  1  2   3    4       "
      ]
     },
     "execution_count": 3,
     "metadata": {},
     "output_type": "execute_result"
    }
   ],
   "source": [
    "qc = gen_circuit(5, 0, [\"\",\"cx\",\"cx\",\"cx\"])\n",
    "qc.draw()"
   ]
  },
  {
   "cell_type": "markdown",
   "metadata": {},
   "source": []
  }
 ],
 "metadata": {
  "kernelspec": {
   "display_name": "Python 3",
   "language": "python",
   "name": "python3"
  },
  "language_info": {
   "codemirror_mode": {
    "name": "ipython",
    "version": 3
   },
   "file_extension": ".py",
   "mimetype": "text/x-python",
   "name": "python",
   "nbconvert_exporter": "python",
   "pygments_lexer": "ipython3",
   "version": "3.10.10"
  },
  "orig_nbformat": 4,
  "vscode": {
   "interpreter": {
    "hash": "d33ce357ed447f2e0170e7146dab410319f53427a1994947d244f0dd59d6b6ea"
   }
  }
 },
 "nbformat": 4,
 "nbformat_minor": 2
}
